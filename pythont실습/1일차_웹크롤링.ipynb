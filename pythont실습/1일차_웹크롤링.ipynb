{
 "cells": [
  {
   "cell_type": "code",
   "execution_count": null,
   "id": "17596c57",
   "metadata": {},
   "outputs": [],
   "source": [
    "import time\n",
    "from selenium import webdriver from selenium.webdriver.common.by import By from selenium.webdriver.common.keys import Keys from selenium.webdriver.chrome.options import Options from selenium.webdriver.chrome.service import Service\n",
    "# 1) 크롬 옵션 설정 (창을 눈에 보이지 않게 헤드리스 모드로 실행 가능)\n",
    "chrome_options = Options() \n",
    "#chrome_options.add_argument(\"--headless\")# 필요 시 주석 해제\n",
    "\n",
    "# 2) 웹드라이버 실행 (chromedriver 경로 설정 필수)\n",
    "service = Service(\"C: /Users/beoms/Desktop/chromedriver.exe\")\n",
    "driver = webdriver.Chrome(service=service, options=chrome_options)"
   ]
  }
 ],
 "metadata": {
  "kernelspec": {
   "display_name": "Python 3 (ipykernel)",
   "language": "python",
   "name": "python3"
  },
  "language_info": {
   "codemirror_mode": {
    "name": "ipython",
    "version": 3
   },
   "file_extension": ".py",
   "mimetype": "text/x-python",
   "name": "python",
   "nbconvert_exporter": "python",
   "pygments_lexer": "ipython3",
   "version": "3.11.7"
  }
 },
 "nbformat": 4,
 "nbformat_minor": 5
}
