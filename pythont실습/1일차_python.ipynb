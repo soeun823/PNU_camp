{
 "cells": [
  {
   "cell_type": "code",
   "execution_count": 1,
   "id": "9ceb6735",
   "metadata": {},
   "outputs": [
    {
     "ename": "TypeError",
     "evalue": "Student.__init__() missing 1 required positional argument: 'scores'",
     "output_type": "error",
     "traceback": [
      "\u001b[0;31m---------------------------------------------------------------------------\u001b[0m",
      "\u001b[0;31mTypeError\u001b[0m                                 Traceback (most recent call last)",
      "Cell \u001b[0;32mIn[1], line 14\u001b[0m\n\u001b[1;32m     10\u001b[0m     \u001b[38;5;28;01mdef\u001b[39;00m \u001b[38;5;21mintroduce\u001b[39m():\n\u001b[1;32m     11\u001b[0m         \u001b[38;5;28mprint\u001b[39m(\u001b[38;5;124mf\u001b[39m\u001b[38;5;124m\"\u001b[39m\u001b[38;5;132;01m{\u001b[39;00mname\u001b[38;5;132;01m}\u001b[39;00m\u001b[38;5;124m, \u001b[39m\u001b[38;5;132;01m{\u001b[39;00mgrade\u001b[38;5;132;01m}\u001b[39;00m\u001b[38;5;124m학년,\u001b[39m\u001b[38;5;130;01m\\n\u001b[39;00m\u001b[38;5;124m \u001b[39m\u001b[38;5;132;01m{\u001b[39;00mscores\u001b[38;5;132;01m}\u001b[39;00m\u001b[38;5;124m\"\u001b[39m)\n\u001b[0;32m---> 14\u001b[0m student \u001b[38;5;241m=\u001b[39m Student(\u001b[38;5;124m\"\u001b[39m\u001b[38;5;124m김철수\u001b[39m\u001b[38;5;124m\"\u001b[39m,\u001b[38;5;241m1\u001b[39m)\n\u001b[1;32m     15\u001b[0m student\u001b[38;5;241m.\u001b[39madd_srore(\u001b[38;5;241m90\u001b[39m)\n\u001b[1;32m     16\u001b[0m student\u001b[38;5;241m.\u001b[39madd_srore(\u001b[38;5;241m85\u001b[39m)\n",
      "\u001b[0;31mTypeError\u001b[0m: Student.__init__() missing 1 required positional argument: 'scores'"
     ]
    }
   ],
   "source": [
    "class Student :\n",
    "    def __init__(self,name,grade,scores):\n",
    "        self.name = name\n",
    "        self.grade = grade\n",
    "        self.scores = []\n",
    "    def add_srore(self,score):\n",
    "        self.scores.append(score)\n",
    "    def calculate_average(self):\n",
    "        print(avg(self.scores))\n",
    "    def introduce():\n",
    "        print(f\"{name}, {grade}학년,\\n {scores}\")\n",
    "        \n",
    "        \n",
    "student = Student(\"김철수\",1)\n",
    "student.add_srore(90)\n",
    "student.add_srore(85)\n",
    "student.add_srore(80)\n",
    "print(f\"평균 점수 : {student.calculate_average():.2f}\")\n",
    "student.introduce()"
   ]
  },
  {
   "cell_type": "code",
   "execution_count": null,
   "id": "9efdb0ca",
   "metadata": {},
   "outputs": [],
   "source": [
    "lst = list(map(int,input().split()))\n",
    "print(filter(lambda x : x%2 == 0, lst))"
   ]
  },
  {
   "cell_type": "code",
   "execution_count": null,
   "id": "2ff1fa0b",
   "metadata": {},
   "outputs": [],
   "source": [
    "def print_multiplication_table(n):\n",
    "    "
   ]
  },
  {
   "cell_type": "code",
   "execution_count": 6,
   "id": "319473cc",
   "metadata": {},
   "outputs": [
    {
     "name": "stdout",
     "output_type": "stream",
     "text": [
      "1 23 4 \n",
      "<function <lambda> at 0x10de022a0> [1, 23, 4]\n"
     ]
    }
   ],
   "source": [
    "lst = list(map(int,input().split()))\n",
    "print(lambda x : x**2,lst)"
   ]
  },
  {
   "cell_type": "code",
   "execution_count": null,
   "id": "d3bcffef",
   "metadata": {},
   "outputs": [],
   "source": [
    "line = input()# 문자열 입력 후 대문자로 변환\n",
    "\n",
    "def convert_to_uppercase(lst):\n",
    "    reu"
   ]
  },
  {
   "cell_type": "code",
   "execution_count": null,
   "id": "b0be15aa",
   "metadata": {},
   "outputs": [],
   "source": [
    "def calculate_bmi(hei,wei): # bmi\n",
    "    i = 1\n",
    "    for i in range(wei):\n",
    "        wei *= wei\n",
    "        \n",
    "\n",
    "hei,wei = map(int,input().split())\n",
    "print(calculate_bmi(hei,wei))"
   ]
  },
  {
   "cell_type": "code",
   "execution_count": null,
   "id": "1886ffa0",
   "metadata": {},
   "outputs": [],
   "source": [
    "def manage_scores(lst):\n",
    "    a = list(i for i in lst.values() if i \n",
    "    h\n",
    "    \n",
    "students = [\n",
    "    {'name':'Alice','score':85},\n",
    "    {'name':'Bob','score':90},\n",
    "    {'name':'Charlie','score':80}\n",
    "]\n",
    "\n",
    "avg, high = manage_scores(students)\n",
    "print(f\"평균 점수:{avg}, 최고점수{high}\")\n",
    "\n",
    "# \n",
    "#"
   ]
  },
  {
   "cell_type": "code",
   "execution_count": null,
   "id": "d1747188",
   "metadata": {},
   "outputs": [],
   "source": [
    "#가은님 문제가 뭐예요?\n",
    "#가 아니라~~\n",
    "# 다항식의 덧셈, 뺄셈, 나눗셈\n",
    "세준님"
   ]
  }
 ],
 "metadata": {
  "kernelspec": {
   "display_name": "Python 3 (ipykernel)",
   "language": "python",
   "name": "python3"
  },
  "language_info": {
   "codemirror_mode": {
    "name": "ipython",
    "version": 3
   },
   "file_extension": ".py",
   "mimetype": "text/x-python",
   "name": "python",
   "nbconvert_exporter": "python",
   "pygments_lexer": "ipython3",
   "version": "3.11.7"
  }
 },
 "nbformat": 4,
 "nbformat_minor": 5
}
